{
  "nbformat": 4,
  "nbformat_minor": 0,
  "metadata": {
    "colab": {
      "name": "pyws1.ipynb",
      "provenance": [],
      "collapsed_sections": [],
      "authorship_tag": "ABX9TyPI3xCzASnnU2pDLohJPGqI",
      "include_colab_link": true
    },
    "kernelspec": {
      "name": "python3",
      "display_name": "Python 3"
    }
  },
  "cells": [
    {
      "cell_type": "markdown",
      "metadata": {
        "id": "view-in-github",
        "colab_type": "text"
      },
      "source": [
        "<a href=\"https://colab.research.google.com/github/Varshith734/pythonworkshop/blob/main/pyws1.ipynb\" target=\"_parent\"><img src=\"https://colab.research.google.com/assets/colab-badge.svg\" alt=\"Open In Colab\"/></a>"
      ]
    },
    {
      "cell_type": "code",
      "metadata": {
        "colab": {
          "base_uri": "https://localhost:8080/",
          "height": 135
        },
        "id": "t450ofsn9T7A",
        "outputId": "e0c23b24-7f75-4196-d915-a5de01c98af9"
      },
      "source": [
        "x=6\r\n",
        "def funs():\r\n",
        "y=9\r\n",
        "x=x+1;\r\n",
        "print(y)\r\n",
        "funs()\r\n",
        "print(x)"
      ],
      "execution_count": 21,
      "outputs": [
        {
          "output_type": "error",
          "ename": "IndentationError",
          "evalue": "ignored",
          "traceback": [
            "\u001b[0;36m  File \u001b[0;32m\"<ipython-input-21-ef6957bb6bff>\"\u001b[0;36m, line \u001b[0;32m3\u001b[0m\n\u001b[0;31m    y=9\u001b[0m\n\u001b[0m    ^\u001b[0m\n\u001b[0;31mIndentationError\u001b[0m\u001b[0;31m:\u001b[0m expected an indented block\n"
          ]
        }
      ]
    },
    {
      "cell_type": "markdown",
      "metadata": {
        "id": "rGbFgWnNBnCg"
      },
      "source": [
        "#exercise-1"
      ]
    },
    {
      "cell_type": "code",
      "metadata": {
        "colab": {
          "base_uri": "https://localhost:8080/"
        },
        "id": "6JoQeqGcA5OI",
        "outputId": "79189e3d-c3bf-4e66-97e1-891c98c8ab8c"
      },
      "source": [
        "carname=\"volvo\"\r\n",
        "print(carname)"
      ],
      "execution_count": 23,
      "outputs": [
        {
          "output_type": "stream",
          "text": [
            "volvo\n"
          ],
          "name": "stdout"
        }
      ]
    },
    {
      "cell_type": "markdown",
      "metadata": {
        "id": "yAICVdiuCDof"
      },
      "source": [
        "#exercise-2"
      ]
    },
    {
      "cell_type": "code",
      "metadata": {
        "colab": {
          "base_uri": "https://localhost:8080/"
        },
        "id": "TEMjhTDzBMS4",
        "outputId": "d378b5de-7956-4eb9-ba6e-b84d02d651f1"
      },
      "source": [
        "x=50\r\n",
        "print(x,type(x))"
      ],
      "execution_count": 24,
      "outputs": [
        {
          "output_type": "stream",
          "text": [
            "50 <class 'int'>\n"
          ],
          "name": "stdout"
        }
      ]
    },
    {
      "cell_type": "markdown",
      "metadata": {
        "id": "k4ii90OSCY3g"
      },
      "source": [
        "#exercise-3"
      ]
    },
    {
      "cell_type": "code",
      "metadata": {
        "colab": {
          "base_uri": "https://localhost:8080/"
        },
        "id": "9K4bd2plCbuG",
        "outputId": "da7f9b8c-b1af-4ca5-d11b-4c7ac1e2754f"
      },
      "source": [
        "x=5\r\n",
        "y=10\r\n",
        "sum=x+y\r\n",
        "print(sum)"
      ],
      "execution_count": 28,
      "outputs": [
        {
          "output_type": "stream",
          "text": [
            "15\n"
          ],
          "name": "stdout"
        }
      ]
    },
    {
      "cell_type": "code",
      "metadata": {
        "colab": {
          "base_uri": "https://localhost:8080/"
        },
        "id": "GAtte0XqDGJv",
        "outputId": "76f8a5b0-350a-428b-c4bb-5dff0a3d2e76"
      },
      "source": [
        "x,y=5,10\r\n",
        "print(x+y)"
      ],
      "execution_count": 29,
      "outputs": [
        {
          "output_type": "stream",
          "text": [
            "15\n"
          ],
          "name": "stdout"
        }
      ]
    },
    {
      "cell_type": "markdown",
      "metadata": {
        "id": "RIb9-T9FD_Cv"
      },
      "source": [
        "#exercise-4\r\n"
      ]
    },
    {
      "cell_type": "code",
      "metadata": {
        "colab": {
          "base_uri": "https://localhost:8080/"
        },
        "id": "8yl-RgCfEDwV",
        "outputId": "f26bba27-be75-404f-f21d-b13ed193d73e"
      },
      "source": [
        "x,y=11,17\r\n",
        "sum=x+y\r\n",
        "print(\"sum is \",sum)"
      ],
      "execution_count": 30,
      "outputs": [
        {
          "output_type": "stream",
          "text": [
            "sum is  28\n"
          ],
          "name": "stdout"
        }
      ]
    },
    {
      "cell_type": "code",
      "metadata": {
        "colab": {
          "base_uri": "https://localhost:8080/"
        },
        "id": "f0LesWHSPgIV",
        "outputId": "61523579-579e-46fe-c23f-70c2b7f49472"
      },
      "source": [
        "x1=\"hello world\"\r\n",
        "x2=5\r\n",
        "x3=5.6\r\n",
        "x4=[\"apple\",\"banana\",\"cherry\"]\r\n",
        "x5=(\"apple\",\"banana\",\"cherry\")\r\n",
        "x6=range(6)\r\n",
        "x7={\"name\":\"Johnwick\",\"age\":36}\r\n",
        "x8={\"apple\",\"banana\",\"cherry\"}\r\n",
        "x9=True\r\n",
        "print(type(x1))\r\n",
        "print(type(x2))\r\n",
        "print(type(x3))\r\n",
        "print(type(x4))\r\n",
        "print(type(x5))\r\n",
        "print(type(x6))\r\n",
        "print(type(x7))\r\n",
        "print(type(x8))\r\n",
        "print(type(x9))\r\n"
      ],
      "execution_count": 36,
      "outputs": [
        {
          "output_type": "stream",
          "text": [
            "<class 'str'>\n",
            "<class 'int'>\n",
            "<class 'float'>\n",
            "<class 'list'>\n",
            "<class 'tuple'>\n",
            "<class 'range'>\n",
            "<class 'dict'>\n",
            "<class 'set'>\n",
            "<class 'bool'>\n"
          ],
          "name": "stdout"
        }
      ]
    },
    {
      "cell_type": "code",
      "metadata": {
        "colab": {
          "base_uri": "https://localhost:8080/"
        },
        "id": "QCA-Xnj3T0zt",
        "outputId": "af2a7be6-09d5-491c-afda-5e2d672468b5"
      },
      "source": [
        "x=range(1,5,2)\r\n",
        "print(list(x))"
      ],
      "execution_count": 38,
      "outputs": [
        {
          "output_type": "stream",
          "text": [
            "[1, 3]\n"
          ],
          "name": "stdout"
        }
      ]
    },
    {
      "cell_type": "code",
      "metadata": {
        "colab": {
          "base_uri": "https://localhost:8080/"
        },
        "id": "auOkt93OX1_K",
        "outputId": "b8c4c400-fe99-4c7e-997c-bf003e0377a4"
      },
      "source": [
        " x=1\r\n",
        " y=2.8\r\n",
        " z=1j\r\n",
        " a=float(x)\r\n",
        " b=int(y)\r\n",
        " print(b)\r\n",
        " print(a)\r\n",
        " c=complex(x)\r\n",
        " print(c)"
      ],
      "execution_count": 41,
      "outputs": [
        {
          "output_type": "stream",
          "text": [
            "2\n",
            "1.0\n",
            "(1+0j)\n"
          ],
          "name": "stdout"
        }
      ]
    },
    {
      "cell_type": "code",
      "metadata": {
        "colab": {
          "base_uri": "https://localhost:8080/"
        },
        "id": "jpfqNyMRZydB",
        "outputId": "884196c1-79bd-470f-ce40-b51f10fd7047"
      },
      "source": [
        "x=int(1)\r\n",
        "y=int(2.8)\r\n",
        "z=(\"3\")\r\n",
        "print(x,y,z)\r\n",
        "x=float(1)\r\n",
        "y=float(2.8)\r\n",
        "z=float(\"3\")\r\n",
        "a=float(\"4.2\")\r\n",
        "print(x,y,z,a)\r\n",
        "\r\n",
        "b=str(\"n1\")\r\n",
        "c=str(2)\r\n",
        "d=str(3.0)\r\n",
        "print(b,c,d)"
      ],
      "execution_count": 45,
      "outputs": [
        {
          "output_type": "stream",
          "text": [
            "1 2 3\n",
            "1.0 2.8 3.0 4.2\n",
            "n1 2 3.0\n"
          ],
          "name": "stdout"
        }
      ]
    },
    {
      "cell_type": "markdown",
      "metadata": {
        "id": "2trnX2Ynas1Z"
      },
      "source": [
        "#assignment"
      ]
    },
    {
      "cell_type": "code",
      "metadata": {
        "colab": {
          "base_uri": "https://localhost:8080/"
        },
        "id": "2wUcqiTyaxGK",
        "outputId": "05c13aaa-af3f-40e6-8141-931ffa83e984"
      },
      "source": [
        "x,y=\"2\",\"3\"\r\n",
        "c=x+y\r\n",
        "print(\"x+y=\" +c)"
      ],
      "execution_count": 46,
      "outputs": [
        {
          "output_type": "stream",
          "text": [
            "x+y=23\n"
          ],
          "name": "stdout"
        }
      ]
    },
    {
      "cell_type": "code",
      "metadata": {
        "colab": {
          "base_uri": "https://localhost:8080/"
        },
        "id": "zi2kdwvhcjOq",
        "outputId": "a616de04-95ff-485d-9cb1-dc758e3ed5ef"
      },
      "source": [
        "name=\"jay\"\r\n",
        "print(name)\r\n",
        "print(type(name))"
      ],
      "execution_count": 48,
      "outputs": [
        {
          "output_type": "stream",
          "text": [
            "jay\n",
            "<class 'str'>\n"
          ],
          "name": "stdout"
        }
      ]
    },
    {
      "cell_type": "code",
      "metadata": {
        "colab": {
          "base_uri": "https://localhost:8080/"
        },
        "id": "f572XSYFeOiM",
        "outputId": "2ebe3cca-3c68-44eb-f796-91de8dc03a01"
      },
      "source": [
        "name=\"Hello world\"\r\n",
        "print(name[4])\r\n",
        "print(len(name))"
      ],
      "execution_count": 52,
      "outputs": [
        {
          "output_type": "stream",
          "text": [
            "o\n",
            "11\n"
          ],
          "name": "stdout"
        }
      ]
    },
    {
      "cell_type": "code",
      "metadata": {
        "colab": {
          "base_uri": "https://localhost:8080/"
        },
        "id": "0q4lSUJDfakS",
        "outputId": "708b4879-e155-4624-f8d2-7460e7ae2a33"
      },
      "source": [
        "text=\"things in life are free\"\r\n",
        "print(\"in\"in text)"
      ],
      "execution_count": 57,
      "outputs": [
        {
          "output_type": "stream",
          "text": [
            "True\n"
          ],
          "name": "stdout"
        }
      ]
    },
    {
      "cell_type": "code",
      "metadata": {
        "colab": {
          "base_uri": "https://localhost:8080/"
        },
        "id": "JEbVA7uLgPog",
        "outputId": "34175439-d796-49a6-b1f2-8acb95453c58"
      },
      "source": [
        "text=\"things in life are free!!!\"\r\n",
        "print(text[:5])"
      ],
      "execution_count": 60,
      "outputs": [
        {
          "output_type": "stream",
          "text": [
            "thing\n"
          ],
          "name": "stdout"
        }
      ]
    },
    {
      "cell_type": "code",
      "metadata": {
        "id": "3i264mYugk5g"
      },
      "source": [
        ""
      ],
      "execution_count": null,
      "outputs": []
    },
    {
      "cell_type": "code",
      "metadata": {
        "colab": {
          "base_uri": "https://localhost:8080/"
        },
        "id": "sp3FCyIsg7Ds",
        "outputId": "eae8a568-d62c-4ab5-f1e1-1e528146be56"
      },
      "source": [
        "text=\"things in life are free!!!\"\r\n",
        "print(text[5:])"
      ],
      "execution_count": 61,
      "outputs": [
        {
          "output_type": "stream",
          "text": [
            "s in life are free!!!\n"
          ],
          "name": "stdout"
        }
      ]
    },
    {
      "cell_type": "code",
      "metadata": {
        "colab": {
          "base_uri": "https://localhost:8080/"
        },
        "id": "Z634DZROhWZq",
        "outputId": "64e6ad33-b1ec-4057-a5a2-53acbf4a316f"
      },
      "source": [
        "text=\"things in life are free!!!\"\r\n",
        "print(text[-5:-2])"
      ],
      "execution_count": 62,
      "outputs": [
        {
          "output_type": "stream",
          "text": [
            "ee!\n"
          ],
          "name": "stdout"
        }
      ]
    },
    {
      "cell_type": "code",
      "metadata": {
        "colab": {
          "base_uri": "https://localhost:8080/"
        },
        "id": "lXOBty8oh5Fd",
        "outputId": "7648fcc0-6cc6-4b2e-e6c2-826505b52b57"
      },
      "source": [
        "text=\"things in life are free!!!\"\r\n",
        "print(text.upper())"
      ],
      "execution_count": 64,
      "outputs": [
        {
          "output_type": "stream",
          "text": [
            "THINGS IN LIFE ARE FREE!!!\n"
          ],
          "name": "stdout"
        }
      ]
    },
    {
      "cell_type": "code",
      "metadata": {
        "colab": {
          "base_uri": "https://localhost:8080/"
        },
        "id": "qxLv1TwIiCzc",
        "outputId": "851e0c66-873d-4b04-bcfc-6ddc1c046ff9"
      },
      "source": [
        "text=\"things in life are free!!!\"\r\n",
        "print(text.lower())"
      ],
      "execution_count": 65,
      "outputs": [
        {
          "output_type": "stream",
          "text": [
            "things in life are free!!!\n"
          ],
          "name": "stdout"
        }
      ]
    },
    {
      "cell_type": "code",
      "metadata": {
        "colab": {
          "base_uri": "https://localhost:8080/"
        },
        "id": "EU44N2MniYs4",
        "outputId": "9b3be3e9-38a4-4c98-976a-ac806c5d2544"
      },
      "source": [
        "a=\"hello\"\r\n",
        "b=\"world\"\r\n",
        "print(a+b)"
      ],
      "execution_count": 68,
      "outputs": [
        {
          "output_type": "stream",
          "text": [
            "helloworld\n"
          ],
          "name": "stdout"
        }
      ]
    },
    {
      "cell_type": "code",
      "metadata": {
        "colab": {
          "base_uri": "https://localhost:8080/"
        },
        "id": "Jkn3XvW8igBa",
        "outputId": "133d3cc1-7c1a-4f78-e42c-1f196cca47cf"
      },
      "source": [
        "age=30\r\n",
        "text=\"My name is john, and I am {}\"\r\n",
        "print(text.format(age))"
      ],
      "execution_count": 71,
      "outputs": [
        {
          "output_type": "stream",
          "text": [
            "My name is john, and I am 30\n"
          ],
          "name": "stdout"
        }
      ]
    },
    {
      "cell_type": "code",
      "metadata": {
        "colab": {
          "base_uri": "https://localhost:8080/"
        },
        "id": "3M3SFNz2i6YI",
        "outputId": "96b80ab0-fc2f-487f-cedd-27590a09cafe"
      },
      "source": [
        "text=\"vaibhav shroff\"\r\n",
        "print(text.capitalize())"
      ],
      "execution_count": 74,
      "outputs": [
        {
          "output_type": "stream",
          "text": [
            "Vaibhav shroff\n"
          ],
          "name": "stdout"
        }
      ]
    },
    {
      "cell_type": "markdown",
      "metadata": {
        "id": "GZlxRcAA19T4"
      },
      "source": [
        "#code to"
      ]
    },
    {
      "cell_type": "code",
      "metadata": {
        "colab": {
          "base_uri": "https://localhost:8080/"
        },
        "id": "qav_kJZgmL_u",
        "outputId": "8d2c4b9e-29e1-452e-9a66-a0246ee18afb"
      },
      "source": [
        "name=\"alvas\"\r\n",
        "print(len(name))\r\n",
        "print(name.upper())\r\n",
        "b=\"college\"\r\n",
        "print(\"after the concatenation\" +name+b)\r\n",
        "c=name+b\r\n",
        "print(c)\r\n",
        "print(c.isdigit)\r\n",
        "print(c[0:5])\r\n",
        "\r\n"
      ],
      "execution_count": 83,
      "outputs": [
        {
          "output_type": "stream",
          "text": [
            "5\n",
            "ALVAS\n",
            "after the concatenationalvascollege\n",
            "alvascollege\n",
            "<built-in method isdigit of str object at 0x7f399a7c92f0>\n",
            "alvas\n"
          ],
          "name": "stdout"
        }
      ]
    },
    {
      "cell_type": "code",
      "metadata": {
        "colab": {
          "base_uri": "https://localhost:8080/"
        },
        "id": "K99kBNYv5Ki0",
        "outputId": "71d9e1ba-f354-4f70-a99c-ee55744beb08"
      },
      "source": [
        "inp=input(\"enter the something:\")\r\n",
        "print(len(inp))\r\n",
        "print(inp[0:4])\r\n",
        "print(inp.upper())\r\n",
        "print(inp+ \" college\")\r\n",
        "inp=inp+\"{}\"\r\n",
        "print(inp.format(\" college\"))\r\n",
        "print(inp.isdigit())"
      ],
      "execution_count": 92,
      "outputs": [
        {
          "output_type": "stream",
          "text": [
            "enter the something:college\n",
            "7\n",
            "coll\n",
            "COLLEGE\n",
            "college college\n",
            "college college\n",
            "False\n"
          ],
          "name": "stdout"
        }
      ]
    },
    {
      "cell_type": "code",
      "metadata": {
        "colab": {
          "base_uri": "https://localhost:8080/"
        },
        "id": "znr8SEfO7wq6",
        "outputId": "cb4956b3-75ed-411f-9314-7690e2326e74"
      },
      "source": [
        "x=5\r\n",
        "x+=3\r\n",
        "print(x)"
      ],
      "execution_count": 95,
      "outputs": [
        {
          "output_type": "stream",
          "text": [
            "8\n"
          ],
          "name": "stdout"
        }
      ]
    },
    {
      "cell_type": "code",
      "metadata": {
        "colab": {
          "base_uri": "https://localhost:8080/"
        },
        "id": "95-yceaN8UjK",
        "outputId": "55735bfe-afd6-4072-ae6e-5eb872e6e6f4"
      },
      "source": [
        "x=5\r\n",
        "y=6\r\n",
        "print(x==y)"
      ],
      "execution_count": 101,
      "outputs": [
        {
          "output_type": "stream",
          "text": [
            "False\n"
          ],
          "name": "stdout"
        }
      ]
    },
    {
      "cell_type": "code",
      "metadata": {
        "colab": {
          "base_uri": "https://localhost:8080/"
        },
        "id": "4q8IiPsZ9kOi",
        "outputId": "7a4ec9af-1e8b-4ed6-a99d-1556021ccab6"
      },
      "source": [
        "print(3<0 and 3<8)"
      ],
      "execution_count": 104,
      "outputs": [
        {
          "output_type": "stream",
          "text": [
            "False\n"
          ],
          "name": "stdout"
        }
      ]
    },
    {
      "cell_type": "code",
      "metadata": {
        "colab": {
          "base_uri": "https://localhost:8080/"
        },
        "id": "2JdIzZ189waq",
        "outputId": "38659b36-d4dc-4d37-8b9c-2d489b888916"
      },
      "source": [
        "print(3<0 or 3<8)\r\n",
        "print(not(2>1))"
      ],
      "execution_count": 106,
      "outputs": [
        {
          "output_type": "stream",
          "text": [
            "True\n",
            "False\n"
          ],
          "name": "stdout"
        }
      ]
    },
    {
      "cell_type": "code",
      "metadata": {
        "colab": {
          "base_uri": "https://localhost:8080/"
        },
        "id": "vAQFV_z1-bLZ",
        "outputId": "529442c0-21d9-4d46-cbb7-da40fd9b1857"
      },
      "source": [
        "a=int(input(\"enter the first number\"))\r\n",
        "b=int(input(\"enter the second number\"))\r\n",
        "c=a+b\r\n",
        "d=a-b\r\n",
        "e=a*b\r\n",
        "f=a/b\r\n",
        "print(\"addition is\",c)\r\n",
        "print(\"substraction is\",d)\r\n",
        "print(\"multiplication is\",e)\r\n",
        "print(\"divide is \",f)"
      ],
      "execution_count": 109,
      "outputs": [
        {
          "output_type": "stream",
          "text": [
            "enter the first number10\n",
            "enter the second number20\n",
            "addition is 30\n",
            "substraction is -10\n",
            "multiplication is 200\n",
            "divide is  0.5\n"
          ],
          "name": "stdout"
        }
      ]
    },
    {
      "cell_type": "code",
      "metadata": {
        "colab": {
          "base_uri": "https://localhost:8080/"
        },
        "id": "9Idh7iADEUEy",
        "outputId": "022ce443-b4b3-46fc-dca7-0b6bdb7283dd"
      },
      "source": [
        "thislist=[\"abhishek\",\"pawan\",\"prinson\"]\r\n",
        "print(thislist)\r\n",
        "print(len(thislist))"
      ],
      "execution_count": 116,
      "outputs": [
        {
          "output_type": "stream",
          "text": [
            "['abhishek', 'pawan', 'prinson']\n",
            "3\n"
          ],
          "name": "stdout"
        }
      ]
    },
    {
      "cell_type": "code",
      "metadata": {
        "colab": {
          "base_uri": "https://localhost:8080/"
        },
        "id": "APu6xaZqFHCJ",
        "outputId": "3738cc6f-a50e-4025-a87e-76cde39c55f1"
      },
      "source": [
        "thislist=list((\"abhishek\",\"pawan\",\"prinson\"))\r\n",
        "print(thislist)"
      ],
      "execution_count": 115,
      "outputs": [
        {
          "output_type": "stream",
          "text": [
            "['abhishek', 'pawan', 'prinson']\n"
          ],
          "name": "stdout"
        }
      ]
    },
    {
      "cell_type": "code",
      "metadata": {
        "colab": {
          "base_uri": "https://localhost:8080/"
        },
        "id": "_nJeCkCeGBmS",
        "outputId": "67861407-9905-4b84-bc80-13dae5ca121e"
      },
      "source": [
        "l=[\"cse\",\"ise\",\"ece\",\"mech\"]\r\n",
        "print(l[0:1])"
      ],
      "execution_count": 133,
      "outputs": [
        {
          "output_type": "stream",
          "text": [
            "['cse']\n"
          ],
          "name": "stdout"
        }
      ]
    },
    {
      "cell_type": "code",
      "metadata": {
        "colab": {
          "base_uri": "https://localhost:8080/"
        },
        "id": "lhSM6VonHbzA",
        "outputId": "51cee3bb-d083-4c6f-ca08-6ca7396549a9"
      },
      "source": [
        "l=[\"cse\",\"ise\",\"ece\",\"mech\"]\r\n",
        "print(l[1:])"
      ],
      "execution_count": 134,
      "outputs": [
        {
          "output_type": "stream",
          "text": [
            "['ise', 'ece', 'mech']\n"
          ],
          "name": "stdout"
        }
      ]
    },
    {
      "cell_type": "code",
      "metadata": {
        "colab": {
          "base_uri": "https://localhost:8080/"
        },
        "id": "jCmdbF4zHyQA",
        "outputId": "6af723fa-c7ec-4ef9-b9f8-fa01cbb93c4c"
      },
      "source": [
        "thislist=[\"apple\",\"banana\",\"cherry\"]\r\n",
        "print(len(thislist))\r\n",
        "thislist.append(\"orange\")\r\n",
        "print(thislist)\r\n",
        "print(len(thislist))"
      ],
      "execution_count": 135,
      "outputs": [
        {
          "output_type": "stream",
          "text": [
            "3\n",
            "['apple', 'banana', 'cherry', 'orange']\n",
            "4\n"
          ],
          "name": "stdout"
        }
      ]
    },
    {
      "cell_type": "code",
      "metadata": {
        "colab": {
          "base_uri": "https://localhost:8080/"
        },
        "id": "OcLhqCWyIidY",
        "outputId": "7f1b8fe3-adae-49e3-b889-4b126d2c3b5b"
      },
      "source": [
        "thislist=[\"apple\",\"banana\",\"cherry\"]\r\n",
        "tropical=[\"mango\",\"pineapple\",\"papaya\"]\r\n",
        "thislist.extend(tropical)\r\n",
        "print(thislist)"
      ],
      "execution_count": 136,
      "outputs": [
        {
          "output_type": "stream",
          "text": [
            "['apple', 'banana', 'cherry', 'mango', 'pineapple', 'papaya']\n"
          ],
          "name": "stdout"
        }
      ]
    },
    {
      "cell_type": "code",
      "metadata": {
        "colab": {
          "base_uri": "https://localhost:8080/"
        },
        "id": "aLwE71XiJSY3",
        "outputId": "f91f7fe0-8219-43c2-bbc2-3ccab39312fa"
      },
      "source": [
        "thislist=[\"apple\",\"banana\",\"cherry\"]\r\n",
        "tropical=[\"mango\",\"pineapple\",\"papaya\"]\r\n",
        "newlist=thislist+tropical\r\n",
        "print(newlist)"
      ],
      "execution_count": 137,
      "outputs": [
        {
          "output_type": "stream",
          "text": [
            "['apple', 'banana', 'cherry', 'mango', 'pineapple', 'papaya']\n"
          ],
          "name": "stdout"
        }
      ]
    },
    {
      "cell_type": "code",
      "metadata": {
        "colab": {
          "base_uri": "https://localhost:8080/"
        },
        "id": "MQ5GB14EKB03",
        "outputId": "7769a679-6fad-40e2-ed09-d578840c3cf0"
      },
      "source": [
        "thislist=[\"apple\",\"banana\",\"cherry\"]\r\n",
        "tropical=[\"mango\",\"pineapple\",\"papaya\"]\r\n",
        "newlist=thislist+tropical\r\n",
        "print(newlist)\r\n",
        "newlist.pop(0)\r\n",
        "print(newlist)"
      ],
      "execution_count": 139,
      "outputs": [
        {
          "output_type": "stream",
          "text": [
            "['apple', 'banana', 'cherry', 'mango', 'pineapple', 'papaya']\n",
            "['banana', 'cherry', 'mango', 'pineapple', 'papaya']\n"
          ],
          "name": "stdout"
        }
      ]
    },
    {
      "cell_type": "code",
      "metadata": {
        "colab": {
          "base_uri": "https://localhost:8080/"
        },
        "id": "Rf5-rNh4KzOA",
        "outputId": "03d2a853-9ea3-433d-c80c-150af0d58c72"
      },
      "source": [
        "thislist=[100,50,65,82,83]\r\n",
        "thislist.sort()\r\n",
        "print(thislist)"
      ],
      "execution_count": 140,
      "outputs": [
        {
          "output_type": "stream",
          "text": [
            "[50, 65, 82, 83, 100]\n"
          ],
          "name": "stdout"
        }
      ]
    },
    {
      "cell_type": "code",
      "metadata": {
        "colab": {
          "base_uri": "https://localhost:8080/"
        },
        "id": "pttRgM_FLesH",
        "outputId": "de7ad143-c1c5-4a95-a02a-d07c7a736929"
      },
      "source": [
        "thislist=[100,50,65,82,83]\r\n",
        "thislist.sort(reverse=True)\r\n",
        "print(thislist)"
      ],
      "execution_count": 142,
      "outputs": [
        {
          "output_type": "stream",
          "text": [
            "[100, 83, 82, 65, 50]\n"
          ],
          "name": "stdout"
        }
      ]
    },
    {
      "cell_type": "code",
      "metadata": {
        "colab": {
          "base_uri": "https://localhost:8080/"
        },
        "id": "DoDJwHu4MlSe",
        "outputId": "fc98ea01-cfd1-437d-caa2-ba78715c8e5c"
      },
      "source": [
        "namelist=[\"harsh\",\"pratik\",\"bob\",\"dhruv\"]\r\n",
        "print(namelist[1])"
      ],
      "execution_count": 146,
      "outputs": [
        {
          "output_type": "stream",
          "text": [
            "pratik\n"
          ],
          "name": "stdout"
        }
      ]
    },
    {
      "cell_type": "code",
      "metadata": {
        "colab": {
          "base_uri": "https://localhost:8080/"
        },
        "id": "t62QRaJmNZh_",
        "outputId": "84a19984-0ec4-4cef-f7ea-dce4a16d8482"
      },
      "source": [
        "animal=['cat','dog','fish','goat']\r\n",
        "age=[1,2,2,6]\r\n",
        "print(animal+age)\r\n",
        "animal.extend(age)\r\n",
        "print(animal)"
      ],
      "execution_count": 151,
      "outputs": [
        {
          "output_type": "stream",
          "text": [
            "['cat', 'dog', 'fish', 'goat', 1, 2, 2, 6]\n",
            "['cat', 'dog', 'fish', 'goat', 1, 2, 2, 6]\n"
          ],
          "name": "stdout"
        }
      ]
    },
    {
      "cell_type": "code",
      "metadata": {
        "colab": {
          "base_uri": "https://localhost:8080/"
        },
        "id": "bmIBmWVYOScH",
        "outputId": "def722c5-9968-48b6-ea04-2944e5642530"
      },
      "source": [
        "age=[1,2,3,4]\r\n",
        "print(age)\r\n",
        "age.append(9)\r\n",
        "print(age)\r\n",
        "age.pop(2)\r\n",
        "print(age)\r\n",
        "print(age.count(3))\r\n",
        "\r\n"
      ],
      "execution_count": 160,
      "outputs": [
        {
          "output_type": "stream",
          "text": [
            "[1, 2, 3, 4]\n",
            "[1, 2, 3, 4, 9]\n",
            "[1, 2, 4, 9]\n",
            "0\n"
          ],
          "name": "stdout"
        }
      ]
    },
    {
      "cell_type": "code",
      "metadata": {
        "colab": {
          "base_uri": "https://localhost:8080/"
        },
        "id": "qEVqoB0XRTYu",
        "outputId": "7852d419-f86d-48bf-ba4f-2b2b41a032f8"
      },
      "source": [
        "thistuple=(\"apple\",\"banana\",\"cherry\")\r\n",
        "print(thistuple[-1])"
      ],
      "execution_count": 163,
      "outputs": [
        {
          "output_type": "stream",
          "text": [
            "cherry\n"
          ],
          "name": "stdout"
        }
      ]
    },
    {
      "cell_type": "code",
      "metadata": {
        "colab": {
          "base_uri": "https://localhost:8080/"
        },
        "id": "CtExgwrqSRkF",
        "outputId": "06acba4b-69e7-4efb-f4c1-9492049212d5"
      },
      "source": [
        "x=(\"apple\",\"banana\",\"cherry\")\r\n",
        "print(x)\r\n",
        "y=list(x)\r\n",
        "y[1]=\"kiwi\"\r\n",
        "print(y)\r\n",
        "x=tuple(y)\r\n",
        "print(x)\r\n",
        "z=tuple(y)\r\n",
        "print(z)"
      ],
      "execution_count": 168,
      "outputs": [
        {
          "output_type": "stream",
          "text": [
            "('apple', 'banana', 'cherry')\n",
            "['apple', 'kiwi', 'cherry']\n",
            "('apple', 'kiwi', 'cherry')\n",
            "('apple', 'kiwi', 'cherry')\n"
          ],
          "name": "stdout"
        }
      ]
    },
    {
      "cell_type": "code",
      "metadata": {
        "colab": {
          "base_uri": "https://localhost:8080/"
        },
        "id": "Pg6GqZ9bT9OH",
        "outputId": "c1f040df-2780-4a75-c627-ffd3026c96b6"
      },
      "source": [
        "fruits=(\"apple\",\"banana\",\"cherry\")\r\n",
        "print(fruits)\r\n",
        "x=list(fruits)\r\n",
        "print(x)\r\n",
        "y=tuple(fruits)\r\n",
        "print(y)"
      ],
      "execution_count": 170,
      "outputs": [
        {
          "output_type": "stream",
          "text": [
            "('apple', 'banana', 'cherry')\n",
            "['apple', 'banana', 'cherry']\n",
            "('apple', 'banana', 'cherry')\n"
          ],
          "name": "stdout"
        }
      ]
    },
    {
      "cell_type": "code",
      "metadata": {
        "id": "H74aSRfBT8OM"
      },
      "source": [
        ""
      ],
      "execution_count": null,
      "outputs": []
    }
  ]
}