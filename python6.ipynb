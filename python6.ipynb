{
  "nbformat": 4,
  "nbformat_minor": 0,
  "metadata": {
    "colab": {
      "name": "python6.ipynb",
      "provenance": [],
      "collapsed_sections": [],
      "authorship_tag": "ABX9TyNQ5Flef+mS8ZIAzJm+1ZnG",
      "include_colab_link": true
    },
    "kernelspec": {
      "name": "python3",
      "display_name": "Python 3"
    }
  },
  "cells": [
    {
      "cell_type": "markdown",
      "metadata": {
        "id": "view-in-github",
        "colab_type": "text"
      },
      "source": [
        "<a href=\"https://colab.research.google.com/github/Varshith734/pythonworkshop/blob/main/python6.ipynb\" target=\"_parent\"><img src=\"https://colab.research.google.com/assets/colab-badge.svg\" alt=\"Open In Colab\"/></a>"
      ]
    },
    {
      "cell_type": "code",
      "metadata": {
        "colab": {
          "base_uri": "https://localhost:8080/"
        },
        "id": "b-3gJNbb-kSU",
        "outputId": "bb347126-fa1a-4f55-bc2c-eaf0773a43eb"
      },
      "source": [
        "number={1,2,3,4}\r\n",
        "print(number)"
      ],
      "execution_count": null,
      "outputs": [
        {
          "output_type": "stream",
          "text": [
            "{1, 2, 3, 4}\n"
          ],
          "name": "stdout"
        }
      ]
    },
    {
      "cell_type": "code",
      "metadata": {
        "colab": {
          "base_uri": "https://localhost:8080/"
        },
        "id": "ZCoU5PVd_IEh",
        "outputId": "666a6e31-bffd-4ade-d8fc-258939286a39"
      },
      "source": [
        "a=set((\"ece\",\"cse\",\"ise\"))\r\n",
        "a.add(\"mech\")\r\n",
        "a.add(\"cse\")\r\n",
        "a.remove(\"mech\")\r\n",
        "print(a)\r\n",
        "print(len(a))\r\n",
        "deleted=a.pop()\r\n",
        "print(deleted)\r\n",
        "print(a)"
      ],
      "execution_count": null,
      "outputs": [
        {
          "output_type": "stream",
          "text": [
            "{'cse', 'ece', 'ise'}\n",
            "3\n",
            "cse\n",
            "{'ece', 'ise'}\n"
          ],
          "name": "stdout"
        }
      ]
    },
    {
      "cell_type": "code",
      "metadata": {
        "colab": {
          "base_uri": "https://localhost:8080/"
        },
        "id": "3GSdlAOq_dkp",
        "outputId": "371a81a9-7c55-43f3-df0f-cd769aeb0e98"
      },
      "source": [
        "thisset={\"apple\",\"banana\",\"cherry\"}\r\n",
        "thisset.clear()\r\n",
        "print(thisset)\r\n",
        "print(len(thisset))"
      ],
      "execution_count": null,
      "outputs": [
        {
          "output_type": "stream",
          "text": [
            "set()\n",
            "0\n"
          ],
          "name": "stdout"
        }
      ]
    },
    {
      "cell_type": "code",
      "metadata": {
        "colab": {
          "base_uri": "https://localhost:8080/",
          "height": 197
        },
        "id": "n7erNIL5CloJ",
        "outputId": "0fe41081-020c-4501-db81-2a3e13bf25fa"
      },
      "source": [
        "thisset={\"apple\",\"banana\",\"cherry\"}\r\n",
        "del thisset\r\n",
        "print(thisset)"
      ],
      "execution_count": null,
      "outputs": [
        {
          "output_type": "error",
          "ename": "NameError",
          "evalue": "ignored",
          "traceback": [
            "\u001b[0;31m---------------------------------------------------------------------------\u001b[0m",
            "\u001b[0;31mNameError\u001b[0m                                 Traceback (most recent call last)",
            "\u001b[0;32m<ipython-input-14-195fb746af3d>\u001b[0m in \u001b[0;36m<module>\u001b[0;34m()\u001b[0m\n\u001b[1;32m      1\u001b[0m \u001b[0mthisset\u001b[0m\u001b[0;34m=\u001b[0m\u001b[0;34m{\u001b[0m\u001b[0;34m\"apple\"\u001b[0m\u001b[0;34m,\u001b[0m\u001b[0;34m\"banana\"\u001b[0m\u001b[0;34m,\u001b[0m\u001b[0;34m\"cherry\"\u001b[0m\u001b[0;34m}\u001b[0m\u001b[0;34m\u001b[0m\u001b[0;34m\u001b[0m\u001b[0m\n\u001b[1;32m      2\u001b[0m \u001b[0;32mdel\u001b[0m \u001b[0mthisset\u001b[0m\u001b[0;34m\u001b[0m\u001b[0;34m\u001b[0m\u001b[0m\n\u001b[0;32m----> 3\u001b[0;31m \u001b[0mprint\u001b[0m\u001b[0;34m(\u001b[0m\u001b[0mthisset\u001b[0m\u001b[0;34m)\u001b[0m\u001b[0;34m\u001b[0m\u001b[0;34m\u001b[0m\u001b[0m\n\u001b[0m",
            "\u001b[0;31mNameError\u001b[0m: name 'thisset' is not defined"
          ]
        }
      ]
    },
    {
      "cell_type": "code",
      "metadata": {
        "colab": {
          "base_uri": "https://localhost:8080/"
        },
        "id": "JPRDDj43C2YZ",
        "outputId": "ef756ee3-9836-440c-d0c4-555627fb6667"
      },
      "source": [
        "set1={\"a\",\"b\",\"c\"}\r\n",
        "set2={1,2,3}\r\n",
        "set3=set1.union(set2)\r\n",
        "print(set3)"
      ],
      "execution_count": null,
      "outputs": [
        {
          "output_type": "stream",
          "text": [
            "{1, 2, 3, 'a', 'c', 'b'}\n"
          ],
          "name": "stdout"
        }
      ]
    },
    {
      "cell_type": "code",
      "metadata": {
        "colab": {
          "base_uri": "https://localhost:8080/"
        },
        "id": "mKRw8uKQDUNQ",
        "outputId": "cb072230-82e8-428c-bc7e-735b82994525"
      },
      "source": [
        "thisset={\"apple\",\"banana\",\"cherry\"}\r\n",
        "tropical={\"pineapple\",\"mango\",\"papaya\"}\r\n",
        "thisset.update(tropical)\r\n",
        "print(thisset)"
      ],
      "execution_count": null,
      "outputs": [
        {
          "output_type": "stream",
          "text": [
            "{'banana', 'mango', 'papaya', 'apple', 'pineapple', 'cherry'}\n"
          ],
          "name": "stdout"
        }
      ]
    },
    {
      "cell_type": "code",
      "metadata": {
        "colab": {
          "base_uri": "https://localhost:8080/"
        },
        "id": "Omr7epRaD6T_",
        "outputId": "051922df-1957-4ff2-e9ca-8ec6daed9bac"
      },
      "source": [
        "thisset={\"apple\",\"banana\",\"cherry\"}\r\n",
        "mylist=[\"kiwi\",\"orange\"]\r\n",
        "thisset.update(mylist)\r\n",
        "print(thisset)"
      ],
      "execution_count": null,
      "outputs": [
        {
          "output_type": "stream",
          "text": [
            "{'banana', 'kiwi', 'orange', 'apple', 'cherry'}\n"
          ],
          "name": "stdout"
        }
      ]
    },
    {
      "cell_type": "code",
      "metadata": {
        "colab": {
          "base_uri": "https://localhost:8080/"
        },
        "id": "xRH_12ZlC70V",
        "outputId": "6191eeaf-322e-4724-d776-ce04ece6a6e0"
      },
      "source": [
        "t={1,2,3}\r\n",
        "m=[1,2,3]\r\n",
        "t.union(m)\r\n",
        "print(t)\r\n",
        "t.update(t)\r\n",
        "print(t)"
      ],
      "execution_count": null,
      "outputs": [
        {
          "output_type": "stream",
          "text": [
            "{1, 2, 3}\n",
            "{1, 2, 3}\n"
          ],
          "name": "stdout"
        }
      ]
    },
    {
      "cell_type": "code",
      "metadata": {
        "colab": {
          "base_uri": "https://localhost:8080/"
        },
        "id": "8vDYEtkhF-xa",
        "outputId": "d42fe0d8-37aa-41f6-979c-3a89562a76c1"
      },
      "source": [
        "fruits={\"apple\",\"banana\",\"cherry\"}\r\n",
        "fruits.remove(\"banana\")\r\n",
        "print(fruits)\r\n",
        "more_fruits=[\"orange\",\"mango\",\"graphes\"]\r\n",
        "fruits=fruits.union(more_fruits)\r\n",
        "print(fruits)\r\n"
      ],
      "execution_count": null,
      "outputs": [
        {
          "output_type": "stream",
          "text": [
            "{'apple', 'cherry'}\n",
            "{'orange', 'graphes', 'mango', 'apple', 'cherry'}\n"
          ],
          "name": "stdout"
        }
      ]
    },
    {
      "cell_type": "markdown",
      "metadata": {
        "id": "EOybo39xHobn"
      },
      "source": [
        "#remove using discard"
      ]
    },
    {
      "cell_type": "code",
      "metadata": {
        "colab": {
          "base_uri": "https://localhost:8080/"
        },
        "id": "W7qQMo-hHSNx",
        "outputId": "c6993a2a-5be6-42e3-cd11-3d26f8383ab7"
      },
      "source": [
        "fruits={\"apple\",\"banana\",\"cherry\"}\r\n",
        "fruits.discard(\"banana\")\r\n",
        "print(fruits)"
      ],
      "execution_count": null,
      "outputs": [
        {
          "output_type": "stream",
          "text": [
            "{'apple', 'cherry'}\n"
          ],
          "name": "stdout"
        }
      ]
    },
    {
      "cell_type": "code",
      "metadata": {
        "id": "OcLgujC1Hr-O"
      },
      "source": [
        ""
      ],
      "execution_count": null,
      "outputs": []
    },
    {
      "cell_type": "code",
      "metadata": {
        "colab": {
          "base_uri": "https://localhost:8080/"
        },
        "id": "Q2X1NG1SHsY4",
        "outputId": "8d3f516d-eac8-4c5b-dede-94aab9bc26bb"
      },
      "source": [
        "a=[1,2,1,2,3]\r\n",
        "x=a.count(2)\r\n",
        "print(x)"
      ],
      "execution_count": null,
      "outputs": [
        {
          "output_type": "stream",
          "text": [
            "2\n"
          ],
          "name": "stdout"
        }
      ]
    },
    {
      "cell_type": "code",
      "metadata": {
        "colab": {
          "base_uri": "https://localhost:8080/",
          "height": 180
        },
        "id": "qrzjQmnrIzOQ",
        "outputId": "c5fe30e4-c1a8-4bea-d134-b202fa62efc6"
      },
      "source": [
        "x=[1,2,1,2,3]\r\n",
        "print(len(set(x)))"
      ],
      "execution_count": null,
      "outputs": [
        {
          "output_type": "error",
          "ename": "TypeError",
          "evalue": "ignored",
          "traceback": [
            "\u001b[0;31m---------------------------------------------------------------------------\u001b[0m",
            "\u001b[0;31mTypeError\u001b[0m                                 Traceback (most recent call last)",
            "\u001b[0;32m<ipython-input-44-7117ed7c383d>\u001b[0m in \u001b[0;36m<module>\u001b[0;34m()\u001b[0m\n\u001b[1;32m      1\u001b[0m \u001b[0mx\u001b[0m\u001b[0;34m=\u001b[0m\u001b[0;34m[\u001b[0m\u001b[0;36m1\u001b[0m\u001b[0;34m,\u001b[0m\u001b[0;36m2\u001b[0m\u001b[0;34m,\u001b[0m\u001b[0;36m1\u001b[0m\u001b[0;34m,\u001b[0m\u001b[0;36m2\u001b[0m\u001b[0;34m,\u001b[0m\u001b[0;36m3\u001b[0m\u001b[0;34m]\u001b[0m\u001b[0;34m\u001b[0m\u001b[0;34m\u001b[0m\u001b[0m\n\u001b[0;32m----> 2\u001b[0;31m \u001b[0mprint\u001b[0m\u001b[0;34m(\u001b[0m\u001b[0mlen\u001b[0m\u001b[0;34m(\u001b[0m\u001b[0mset\u001b[0m\u001b[0;34m(\u001b[0m\u001b[0mx\u001b[0m\u001b[0;34m)\u001b[0m\u001b[0;34m)\u001b[0m\u001b[0;34m)\u001b[0m\u001b[0;34m\u001b[0m\u001b[0;34m\u001b[0m\u001b[0m\n\u001b[0m",
            "\u001b[0;31mTypeError\u001b[0m: 'set' object is not callable"
          ]
        }
      ]
    },
    {
      "cell_type": "code",
      "metadata": {
        "colab": {
          "base_uri": "https://localhost:8080/"
        },
        "id": "W8m5DY24Ja8m",
        "outputId": "80acc02c-4ff1-40aa-f6d2-0d7e77f33355"
      },
      "source": [
        "x=[1,2,1,2,3]\r\n",
        "print(len(set(x)))"
      ],
      "execution_count": null,
      "outputs": [
        {
          "output_type": "stream",
          "text": [
            "3\n"
          ],
          "name": "stdout"
        }
      ]
    },
    {
      "cell_type": "code",
      "metadata": {
        "colab": {
          "base_uri": "https://localhost:8080/"
        },
        "id": "gg9lX2ExJo72",
        "outputId": "bd7febd7-1121-48fa-f955-ad2418b86356"
      },
      "source": [
        "today={\r\n",
        "    \"day\":\"thursday\",\r\n",
        "    \"date\":\"7\",\r\n",
        "    \"month\":\"jan\",\r\n",
        "}\r\n",
        "print(today)"
      ],
      "execution_count": null,
      "outputs": [
        {
          "output_type": "stream",
          "text": [
            "{'day': 'thursday', 'date': '7', 'month': 'jan'}\n"
          ],
          "name": "stdout"
        }
      ]
    },
    {
      "cell_type": "code",
      "metadata": {
        "colab": {
          "base_uri": "https://localhost:8080/"
        },
        "id": "35si-nqEKWue",
        "outputId": "4caab0a7-31c5-4e9b-dfcf-6917e12abd14"
      },
      "source": [
        "help(set)"
      ],
      "execution_count": null,
      "outputs": [
        {
          "output_type": "stream",
          "text": [
            "Help on class set in module builtins:\n",
            "\n",
            "class set(object)\n",
            " |  set() -> new empty set object\n",
            " |  set(iterable) -> new set object\n",
            " |  \n",
            " |  Build an unordered collection of unique elements.\n",
            " |  \n",
            " |  Methods defined here:\n",
            " |  \n",
            " |  __and__(self, value, /)\n",
            " |      Return self&value.\n",
            " |  \n",
            " |  __contains__(...)\n",
            " |      x.__contains__(y) <==> y in x.\n",
            " |  \n",
            " |  __eq__(self, value, /)\n",
            " |      Return self==value.\n",
            " |  \n",
            " |  __ge__(self, value, /)\n",
            " |      Return self>=value.\n",
            " |  \n",
            " |  __getattribute__(self, name, /)\n",
            " |      Return getattr(self, name).\n",
            " |  \n",
            " |  __gt__(self, value, /)\n",
            " |      Return self>value.\n",
            " |  \n",
            " |  __iand__(self, value, /)\n",
            " |      Return self&=value.\n",
            " |  \n",
            " |  __init__(self, /, *args, **kwargs)\n",
            " |      Initialize self.  See help(type(self)) for accurate signature.\n",
            " |  \n",
            " |  __ior__(self, value, /)\n",
            " |      Return self|=value.\n",
            " |  \n",
            " |  __isub__(self, value, /)\n",
            " |      Return self-=value.\n",
            " |  \n",
            " |  __iter__(self, /)\n",
            " |      Implement iter(self).\n",
            " |  \n",
            " |  __ixor__(self, value, /)\n",
            " |      Return self^=value.\n",
            " |  \n",
            " |  __le__(self, value, /)\n",
            " |      Return self<=value.\n",
            " |  \n",
            " |  __len__(self, /)\n",
            " |      Return len(self).\n",
            " |  \n",
            " |  __lt__(self, value, /)\n",
            " |      Return self<value.\n",
            " |  \n",
            " |  __ne__(self, value, /)\n",
            " |      Return self!=value.\n",
            " |  \n",
            " |  __new__(*args, **kwargs) from builtins.type\n",
            " |      Create and return a new object.  See help(type) for accurate signature.\n",
            " |  \n",
            " |  __or__(self, value, /)\n",
            " |      Return self|value.\n",
            " |  \n",
            " |  __rand__(self, value, /)\n",
            " |      Return value&self.\n",
            " |  \n",
            " |  __reduce__(...)\n",
            " |      Return state information for pickling.\n",
            " |  \n",
            " |  __repr__(self, /)\n",
            " |      Return repr(self).\n",
            " |  \n",
            " |  __ror__(self, value, /)\n",
            " |      Return value|self.\n",
            " |  \n",
            " |  __rsub__(self, value, /)\n",
            " |      Return value-self.\n",
            " |  \n",
            " |  __rxor__(self, value, /)\n",
            " |      Return value^self.\n",
            " |  \n",
            " |  __sizeof__(...)\n",
            " |      S.__sizeof__() -> size of S in memory, in bytes\n",
            " |  \n",
            " |  __sub__(self, value, /)\n",
            " |      Return self-value.\n",
            " |  \n",
            " |  __xor__(self, value, /)\n",
            " |      Return self^value.\n",
            " |  \n",
            " |  add(...)\n",
            " |      Add an element to a set.\n",
            " |      \n",
            " |      This has no effect if the element is already present.\n",
            " |  \n",
            " |  clear(...)\n",
            " |      Remove all elements from this set.\n",
            " |  \n",
            " |  copy(...)\n",
            " |      Return a shallow copy of a set.\n",
            " |  \n",
            " |  difference(...)\n",
            " |      Return the difference of two or more sets as a new set.\n",
            " |      \n",
            " |      (i.e. all elements that are in this set but not the others.)\n",
            " |  \n",
            " |  difference_update(...)\n",
            " |      Remove all elements of another set from this set.\n",
            " |  \n",
            " |  discard(...)\n",
            " |      Remove an element from a set if it is a member.\n",
            " |      \n",
            " |      If the element is not a member, do nothing.\n",
            " |  \n",
            " |  intersection(...)\n",
            " |      Return the intersection of two sets as a new set.\n",
            " |      \n",
            " |      (i.e. all elements that are in both sets.)\n",
            " |  \n",
            " |  intersection_update(...)\n",
            " |      Update a set with the intersection of itself and another.\n",
            " |  \n",
            " |  isdisjoint(...)\n",
            " |      Return True if two sets have a null intersection.\n",
            " |  \n",
            " |  issubset(...)\n",
            " |      Report whether another set contains this set.\n",
            " |  \n",
            " |  issuperset(...)\n",
            " |      Report whether this set contains another set.\n",
            " |  \n",
            " |  pop(...)\n",
            " |      Remove and return an arbitrary set element.\n",
            " |      Raises KeyError if the set is empty.\n",
            " |  \n",
            " |  remove(...)\n",
            " |      Remove an element from a set; it must be a member.\n",
            " |      \n",
            " |      If the element is not a member, raise a KeyError.\n",
            " |  \n",
            " |  symmetric_difference(...)\n",
            " |      Return the symmetric difference of two sets as a new set.\n",
            " |      \n",
            " |      (i.e. all elements that are in exactly one of the sets.)\n",
            " |  \n",
            " |  symmetric_difference_update(...)\n",
            " |      Update a set with the symmetric difference of itself and another.\n",
            " |  \n",
            " |  union(...)\n",
            " |      Return the union of sets as a new set.\n",
            " |      \n",
            " |      (i.e. all elements that are in either set.)\n",
            " |  \n",
            " |  update(...)\n",
            " |      Update a set with the union of itself and others.\n",
            " |  \n",
            " |  ----------------------------------------------------------------------\n",
            " |  Data and other attributes defined here:\n",
            " |  \n",
            " |  __hash__ = None\n",
            "\n"
          ],
          "name": "stdout"
        }
      ]
    },
    {
      "cell_type": "code",
      "metadata": {
        "colab": {
          "base_uri": "https://localhost:8080/"
        },
        "id": "TkEF9xiTKeon",
        "outputId": "7442ab3a-613a-4010-accd-98786a6cf027"
      },
      "source": [
        "thisdict={\r\n",
        "    \"brand\":\"ford\",\r\n",
        "    \"model\":\"Mustag\",\r\n",
        "    \"year\":\"2001\" ,\r\n",
        "    \"year\":\"1974\",\r\n",
        "    \"model\":\"GT\"\r\n",
        "      \r\n",
        "}\r\n",
        "print(thisdict)\r\n",
        "print(len(thisdict))\r\n",
        "x=thisdict[\"model\"]\r\n",
        "print(x)\r\n",
        "y=thisdict.keys()\r\n",
        "print(y)"
      ],
      "execution_count": null,
      "outputs": [
        {
          "output_type": "stream",
          "text": [
            "{'brand': 'ford', 'model': 'GT', 'year': '1974'}\n",
            "3\n",
            "GT\n",
            "dict_keys(['brand', 'model', 'year'])\n"
          ],
          "name": "stdout"
        }
      ]
    },
    {
      "cell_type": "code",
      "metadata": {
        "colab": {
          "base_uri": "https://localhost:8080/"
        },
        "id": "JMEHNouaP0Ku",
        "outputId": "ef2894a9-53fe-48b8-fb2a-5789163180fd"
      },
      "source": [
        "thisdict={\r\n",
        "    \"brand\":\"ford\",\r\n",
        "    \"model\":\"Mustag\",\r\n",
        "    \"year\":\"2001\" ,\r\n",
        "}\r\n",
        "thisdict.popitem()\r\n",
        "print(thisdict)"
      ],
      "execution_count": null,
      "outputs": [
        {
          "output_type": "stream",
          "text": [
            "{'brand': 'ford', 'model': 'Mustag'}\n"
          ],
          "name": "stdout"
        }
      ]
    },
    {
      "cell_type": "code",
      "metadata": {
        "colab": {
          "base_uri": "https://localhost:8080/"
        },
        "id": "a11F_F_mQXqN",
        "outputId": "8d9e27dd-b9bd-4a57-caeb-71cc8b76a666"
      },
      "source": [
        "thisdict={\r\n",
        "    \"brand\":\"ford\",\r\n",
        "    \"model\":\"Mustag\",\r\n",
        "    \"year\":\"2001\" ,\r\n",
        "}\r\n",
        "thisdict.clear()\r\n",
        "print(thisdict)"
      ],
      "execution_count": null,
      "outputs": [
        {
          "output_type": "stream",
          "text": [
            "{}\n"
          ],
          "name": "stdout"
        }
      ]
    },
    {
      "cell_type": "code",
      "metadata": {
        "colab": {
          "base_uri": "https://localhost:8080/"
        },
        "id": "okTfjrdRQp08",
        "outputId": "a1c67270-234a-4a93-b045-3858d7ce5b3c"
      },
      "source": [
        "car={\r\n",
        "    \"brand\":\"ford\",\r\n",
        "    \"model\":\"Mustag\",\r\n",
        "    \"year\":\"2001\" ,\r\n",
        "}\r\n",
        "print(car.get(\"model\"))\r\n",
        "car[\"year\"]=2021\r\n",
        "print(car)\r\n",
        "car[\"color\"]=\"red\"\r\n",
        "print(car)\r\n",
        "del car[\"model\"]\r\n",
        "print(car)"
      ],
      "execution_count": null,
      "outputs": [
        {
          "output_type": "stream",
          "text": [
            "Mustag\n",
            "{'brand': 'ford', 'model': 'Mustag', 'year': 2021}\n",
            "{'brand': 'ford', 'model': 'Mustag', 'year': 2021, 'color': 'red'}\n",
            "{'brand': 'ford', 'year': 2021, 'color': 'red'}\n"
          ],
          "name": "stdout"
        }
      ]
    },
    {
      "cell_type": "code",
      "metadata": {
        "colab": {
          "base_uri": "https://localhost:8080/"
        },
        "id": "hD-63U0hZUbu",
        "outputId": "84a00970-bfac-48ac-f48e-8f70143da15d"
      },
      "source": [
        "a=33\r\n",
        "b=200\r\n",
        "if b>a:\r\n",
        " print(\"b is greater than a\")\r\n",
        "elif a == b:\r\n",
        " print(\"a and b are equal\")\r\n",
        "else: \r\n",
        " print(\"a is grather than b\")"
      ],
      "execution_count": null,
      "outputs": [
        {
          "output_type": "stream",
          "text": [
            "b is greater than a\n"
          ],
          "name": "stdout"
        }
      ]
    },
    {
      "cell_type": "code",
      "metadata": {
        "colab": {
          "base_uri": "https://localhost:8080/"
        },
        "id": "ZNl-5qIqbSzc",
        "outputId": "bed67caa-fbdd-4a0c-fc47-e4baefad8f29"
      },
      "source": [
        "a=50\r\n",
        "b=10\r\n",
        "if b>a:\r\n",
        "  print(\"hello world\")\r\n",
        "else:\r\n",
        "    print(\"hii\")"
      ],
      "execution_count": null,
      "outputs": [
        {
          "output_type": "stream",
          "text": [
            "hii\n"
          ],
          "name": "stdout"
        }
      ]
    },
    {
      "cell_type": "markdown",
      "metadata": {
        "id": "ORTjz-4Ueu8i"
      },
      "source": [
        "#assignment"
      ]
    },
    {
      "cell_type": "code",
      "metadata": {
        "colab": {
          "base_uri": "https://localhost:8080/"
        },
        "id": "MldsPmzwbvgb",
        "outputId": "8461935a-ef65-46c7-f925-26498d5e3c8d"
      },
      "source": [
        "a=int(input(\"enter the first number\"))\r\n",
        "b=int(input(\"enter the second number\"))\r\n",
        "c=int(input(\"enter the third number\"))\r\n",
        "if a>b:\r\n",
        "  print(\"a is greather\")\r\n",
        "elif b>c:\r\n",
        "  print(\"b is greater\")\r\n",
        "else:\r\n",
        "  print(\"c is greather\")"
      ],
      "execution_count": null,
      "outputs": [
        {
          "output_type": "stream",
          "text": [
            "enter the first number10\n",
            "enter the second number20\n",
            "enter the third number10\n",
            "b is greater\n"
          ],
          "name": "stdout"
        }
      ]
    },
    {
      "cell_type": "code",
      "metadata": {
        "colab": {
          "base_uri": "https://localhost:8080/"
        },
        "id": "AEAi2Pt4fyjR",
        "outputId": "4e95a698-cffb-4af6-c70d-787e0d6d51da"
      },
      "source": [
        "i=1\r\n",
        "while i<6:\r\n",
        "  print(i)\r\n",
        "  i+=1"
      ],
      "execution_count": null,
      "outputs": [
        {
          "output_type": "stream",
          "text": [
            "1\n",
            "2\n",
            "3\n",
            "4\n",
            "5\n"
          ],
          "name": "stdout"
        }
      ]
    },
    {
      "cell_type": "code",
      "metadata": {
        "id": "SQQT0PBjhHhR"
      },
      "source": [
        "i=1\r\n",
        "while i<6:\r\n",
        "  print(i)\r\n",
        "  if i==3:\r\n",
        "  break\r\n",
        "i+=1"
      ],
      "execution_count": null,
      "outputs": []
    },
    {
      "cell_type": "markdown",
      "metadata": {
        "id": "2fjHzshAm47Z"
      },
      "source": [
        "#sum"
      ]
    },
    {
      "cell_type": "code",
      "metadata": {
        "colab": {
          "base_uri": "https://localhost:8080/"
        },
        "id": "T6RdAYcqhJ_h",
        "outputId": "08738904-f80c-4cff-98d9-5f91e13f67ed"
      },
      "source": [
        "n=int(input(\"Enter the n number\"))\r\n",
        "i=1\r\n",
        "sum=0\r\n",
        "while i<=n:\r\n",
        "  sum=sum+i\r\n",
        "  i+=1\r\n",
        "print(sum)"
      ],
      "execution_count": null,
      "outputs": [
        {
          "output_type": "stream",
          "text": [
            "Enter the n number3\n",
            "6\n"
          ],
          "name": "stdout"
        }
      ]
    },
    {
      "cell_type": "code",
      "metadata": {
        "colab": {
          "base_uri": "https://localhost:8080/"
        },
        "id": "YB7kMA7Klmxu",
        "outputId": "e6fa8c03-43f4-4a91-b7e7-a8582bb7cee5"
      },
      "source": [
        "fruit=[\"apple\",\"banana\",\"cherry\"]\r\n",
        "for x in \"banana\":\r\n",
        "  print(x)"
      ],
      "execution_count": null,
      "outputs": [
        {
          "output_type": "stream",
          "text": [
            "b\n",
            "a\n",
            "n\n",
            "a\n",
            "n\n",
            "a\n"
          ],
          "name": "stdout"
        }
      ]
    },
    {
      "cell_type": "code",
      "metadata": {
        "colab": {
          "base_uri": "https://localhost:8080/"
        },
        "id": "TN0ThGigm8nH",
        "outputId": "10505aa3-5940-4ef5-fa9a-55b4aec846d4"
      },
      "source": [
        "fruit=[\"apple\",\"banana\",\"cherry\"]\r\n",
        "for x in range(4):\r\n",
        "  print(x)"
      ],
      "execution_count": null,
      "outputs": [
        {
          "output_type": "stream",
          "text": [
            "0\n",
            "1\n",
            "2\n",
            "3\n"
          ],
          "name": "stdout"
        }
      ]
    },
    {
      "cell_type": "code",
      "metadata": {
        "colab": {
          "base_uri": "https://localhost:8080/"
        },
        "id": "oumDRPmInYCJ",
        "outputId": "da5e5911-c6a2-498d-937a-ec7d40e95f06"
      },
      "source": [
        "for x in range(2,30,3):\r\n",
        " print(x)"
      ],
      "execution_count": null,
      "outputs": [
        {
          "output_type": "stream",
          "text": [
            "2\n",
            "5\n",
            "8\n",
            "11\n",
            "14\n",
            "17\n",
            "20\n",
            "23\n",
            "26\n",
            "29\n"
          ],
          "name": "stdout"
        }
      ]
    },
    {
      "cell_type": "code",
      "metadata": {
        "colab": {
          "base_uri": "https://localhost:8080/"
        },
        "id": "kvSjuWzJn-vg",
        "outputId": "bfb7e066-3894-4fa3-b2c3-9981bf5f6ad8"
      },
      "source": [
        "adj=[\"green\",\"red\",\"blue\"]\r\n",
        "fruits=[\"apple\",\"banana\",\"cherry\"]\r\n",
        "for x in adj:\r\n",
        "  for y in fruits:\r\n",
        "    print(x,y)"
      ],
      "execution_count": null,
      "outputs": [
        {
          "output_type": "stream",
          "text": [
            "green apple\n",
            "green banana\n",
            "green cherry\n",
            "red apple\n",
            "red banana\n",
            "red cherry\n",
            "blue apple\n",
            "blue banana\n",
            "blue cherry\n"
          ],
          "name": "stdout"
        }
      ]
    },
    {
      "cell_type": "code",
      "metadata": {
        "id": "P5D1jE-Qohsw"
      },
      "source": [
        "n=2\r\n",
        "odd=[]\r\n",
        "even=[]\r\n",
        "i=0\r\n",
        "for x in range():\r\n",
        "  if n%2==0:\r\n",
        "    \r\n",
        "  \r\n",
        "    "
      ],
      "execution_count": null,
      "outputs": []
    },
    {
      "cell_type": "code",
      "metadata": {
        "colab": {
          "base_uri": "https://localhost:8080/"
        },
        "id": "3eRpRPw0tlun",
        "outputId": "f3c14c0c-716f-4081-cf5d-aa1bab2a4598"
      },
      "source": [
        "even=[]\r\n",
        "odd=[]\r\n",
        "n=8\r\n",
        "for i in range(1,n+1):\r\n",
        "  if(i%2==1):\r\n",
        "    odd.append(i)\r\n",
        "  else:\r\n",
        "    even.append(i)\r\n",
        "\r\n",
        "print(odd)\r\n",
        "print(even)"
      ],
      "execution_count": null,
      "outputs": [
        {
          "output_type": "stream",
          "text": [
            "[1, 3, 5, 7]\n",
            "[2, 4, 6, 8]\n"
          ],
          "name": "stdout"
        }
      ]
    },
    {
      "cell_type": "code",
      "metadata": {
        "colab": {
          "base_uri": "https://localhost:8080/"
        },
        "id": "JVM4Pzk0u9tQ",
        "outputId": "0a9b3605-ad10-4769-aa9c-5a60f0bdc996"
      },
      "source": [
        "even=[]\r\n",
        "odd=[]\r\n",
        "n=8\r\n",
        "for i in range(1,n+1,2):\r\n",
        " odd.append(i)\r\n",
        " even.append(i+1)\r\n",
        "print(odd)\r\n",
        "print(even)"
      ],
      "execution_count": null,
      "outputs": [
        {
          "output_type": "stream",
          "text": [
            "[1, 3, 5, 7]\n",
            "[2, 4, 6, 8]\n"
          ],
          "name": "stdout"
        }
      ]
    },
    {
      "cell_type": "markdown",
      "metadata": {
        "id": "xnA5JNt-AjDg"
      },
      "source": [
        "#list com"
      ]
    },
    {
      "cell_type": "code",
      "metadata": {
        "colab": {
          "base_uri": "https://localhost:8080/"
        },
        "id": "DgNzn4fO_rXt",
        "outputId": "076f9c98-9a3b-4d83-de27-4c579d7d5911"
      },
      "source": [
        "n=20\r\n",
        "list=[]\r\n",
        "for i in range(1,n+1,1):\r\n",
        " list.append(i)\r\n",
        "\r\n",
        "print(list)"
      ],
      "execution_count": null,
      "outputs": [
        {
          "output_type": "stream",
          "text": [
            "[1, 2, 3, 4, 5, 6, 7, 8, 9, 10, 11, 12, 13, 14, 15, 16, 17, 18, 19, 20]\n"
          ],
          "name": "stdout"
        }
      ]
    },
    {
      "cell_type": "code",
      "metadata": {
        "colab": {
          "base_uri": "https://localhost:8080/"
        },
        "id": "NOAAhVadDYPy",
        "outputId": "3b6b6dfb-ba72-4e8e-87e3-584acdcdcb0b"
      },
      "source": [
        "even=[]\r\n",
        "for i in range(0,10,2):\r\n",
        "  even.append(i)\r\n",
        "print(even)"
      ],
      "execution_count": null,
      "outputs": [
        {
          "output_type": "stream",
          "text": [
            "[0, 2, 4, 6, 8]\n"
          ],
          "name": "stdout"
        }
      ]
    },
    {
      "cell_type": "code",
      "metadata": {
        "colab": {
          "base_uri": "https://localhost:8080/"
        },
        "id": "LYi6UwqYEPs5",
        "outputId": "2fc8a53b-a294-4bbe-eebe-dee070391ffb"
      },
      "source": [
        "evenlist=[i for i in range (1,21) if i%2==0]\r\n",
        "print(evenlist)"
      ],
      "execution_count": null,
      "outputs": [
        {
          "output_type": "stream",
          "text": [
            "[2, 4, 6, 8, 10, 12, 14, 16, 18, 20]\n"
          ],
          "name": "stdout"
        }
      ]
    },
    {
      "cell_type": "code",
      "metadata": {
        "colab": {
          "base_uri": "https://localhost:8080/"
        },
        "id": "6dh6HyfiFWqV",
        "outputId": "3c282366-2904-435a-e958-27c3e6791afb"
      },
      "source": [
        "oddlist=[i*i for i in range (1,21) if i%2==1]\r\n",
        "print(oddlist)"
      ],
      "execution_count": null,
      "outputs": [
        {
          "output_type": "stream",
          "text": [
            "[1, 9, 25, 49, 81, 121, 169, 225, 289, 361]\n"
          ],
          "name": "stdout"
        }
      ]
    },
    {
      "cell_type": "code",
      "metadata": {
        "colab": {
          "base_uri": "https://localhost:8080/"
        },
        "id": "BGUkDjRKFeGa",
        "outputId": "9162ee4a-772a-4be6-d6b3-30788ae1d203"
      },
      "source": [
        "if :\r\n",
        "  print(\"hello\")\r\n",
        "else:\r\n",
        "  print(\"hio\")"
      ],
      "execution_count": null,
      "outputs": [
        {
          "output_type": "stream",
          "text": [
            "hello\n"
          ],
          "name": "stdout"
        }
      ]
    },
    {
      "cell_type": "code",
      "metadata": {
        "colab": {
          "base_uri": "https://localhost:8080/"
        },
        "id": "_fOl7HwrF6uZ",
        "outputId": "0a0613d2-a2c2-462e-e9ab-0a38e51092d0"
      },
      "source": [
        "mylist=[1,1,2,4,5]\r\n",
        "print(all(mylist))\r\n",
        " \r\n",
        "mylist2=[1,9,4,0]\r\n",
        "print(all(mylist))"
      ],
      "execution_count": null,
      "outputs": [
        {
          "output_type": "stream",
          "text": [
            "True\n",
            "True\n"
          ],
          "name": "stdout"
        }
      ]
    },
    {
      "cell_type": "code",
      "metadata": {
        "colab": {
          "base_uri": "https://localhost:8080/"
        },
        "id": "clUfrkiGHjwc",
        "outputId": "5a61755d-4ec8-4809-9110-d6383a544eb2"
      },
      "source": [
        "lst=[]\r\n",
        "for i in range(2,21):\r\n",
        " isPrime=True\r\n",
        " for j  in range(2,i):\r\n",
        "   if i%j==0:\r\n",
        "     isPrime=False\r\n",
        "     break\r\n",
        " if isPrime:\r\n",
        "     lst.append(i)\r\n",
        "print(lst)"
      ],
      "execution_count": null,
      "outputs": [
        {
          "output_type": "stream",
          "text": [
            "[2, 3, 5, 7, 11, 13, 17, 19]\n"
          ],
          "name": "stdout"
        }
      ]
    },
    {
      "cell_type": "markdown",
      "metadata": {
        "id": "th5au1qwREMx"
      },
      "source": [
        "#assignment"
      ]
    },
    {
      "cell_type": "code",
      "metadata": {
        "colab": {
          "base_uri": "https://localhost:8080/"
        },
        "id": "6b2IPwzCNwQw",
        "outputId": "525f1f50-91ec-466a-a01d-0981b77b3a9f"
      },
      "source": [
        "square=[i*i for i in range (1,26) if i*i<26]\r\n",
        "print(square)"
      ],
      "execution_count": null,
      "outputs": [
        {
          "output_type": "stream",
          "text": [
            "[1, 4, 9, 16, 25]\n"
          ],
          "name": "stdout"
        }
      ]
    },
    {
      "cell_type": "markdown",
      "metadata": {
        "id": "b8AYKfZVVQE2"
      },
      "source": [
        "#function"
      ]
    },
    {
      "cell_type": "code",
      "metadata": {
        "colab": {
          "base_uri": "https://localhost:8080/"
        },
        "id": "wlqkISVlSCys",
        "outputId": "e316061d-3257-45f6-a70e-df5a8c8b2a41"
      },
      "source": [
        "def my_function(a,b,c=3):\r\n",
        "  print(a,b,c)\r\n",
        "my_function(\"jack\",\"jill\")\r\n"
      ],
      "execution_count": null,
      "outputs": [
        {
          "output_type": "stream",
          "text": [
            "jack jill 3\n"
          ],
          "name": "stdout"
        }
      ]
    },
    {
      "cell_type": "code",
      "metadata": {
        "id": "baSU2DlWcw8k"
      },
      "source": [
        "#lst=[\"jack\",\"jill\",\"abhi\",\"rohan\"] \r\n",
        "physics=int(input())\r\n",
        "chemistry=int(input())\r\n",
        "print(\"jayaraj\"+str(physics+chemistry))"
      ],
      "execution_count": null,
      "outputs": []
    },
    {
      "cell_type": "code",
      "metadata": {
        "colab": {
          "base_uri": "https://localhost:8080/"
        },
        "id": "KsvIcabwejuM",
        "outputId": "b5048548-1be0-40d0-df48-d9f2cefb1c12"
      },
      "source": [
        "def myfun(a,b):\r\n",
        " print(\"your name:\"+a)\r\n",
        " print(\"your marks:\"+b)\r\n",
        "myfun(\"vaibahav\",\"19\")"
      ],
      "execution_count": null,
      "outputs": [
        {
          "output_type": "stream",
          "text": [
            "your name:vaibahav\n",
            "your marks:19\n"
          ],
          "name": "stdout"
        }
      ]
    }
  ]
}